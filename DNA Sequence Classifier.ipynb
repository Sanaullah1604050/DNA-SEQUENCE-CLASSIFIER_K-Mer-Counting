{
 "cells": [
  {
   "cell_type": "markdown",
   "metadata": {},
   "source": [
    "## Classifying DNA Sequences"
   ]
  },
  {
   "cell_type": "code",
   "execution_count": 1,
   "metadata": {},
   "outputs": [],
   "source": [
    "# Hide warnings\n",
    "import warnings\n",
    "warnings.simplefilter('ignore')"
   ]
  },
  {
   "cell_type": "code",
   "execution_count": 2,
   "metadata": {},
   "outputs": [],
   "source": [
    "import numpy as np\n",
    "import pandas as pd\n",
    "import matplotlib.pyplot as plt\n",
    "%matplotlib inline  "
   ]
  },
  {
   "cell_type": "code",
   "execution_count": 3,
   "metadata": {},
   "outputs": [
    {
     "data": {
      "text/html": [
       "<div>\n",
       "<style scoped>\n",
       "    .dataframe tbody tr th:only-of-type {\n",
       "        vertical-align: middle;\n",
       "    }\n",
       "\n",
       "    .dataframe tbody tr th {\n",
       "        vertical-align: top;\n",
       "    }\n",
       "\n",
       "    .dataframe thead th {\n",
       "        text-align: right;\n",
       "    }\n",
       "</style>\n",
       "<table border=\"1\" class=\"dataframe\">\n",
       "  <thead>\n",
       "    <tr style=\"text-align: right;\">\n",
       "      <th></th>\n",
       "      <th>sequence</th>\n",
       "      <th>class</th>\n",
       "    </tr>\n",
       "  </thead>\n",
       "  <tbody>\n",
       "    <tr>\n",
       "      <th>0</th>\n",
       "      <td>ATGCCCCAACTAAATACTACCGTATGGCCCACCATAATTACCCCCA...</td>\n",
       "      <td>4</td>\n",
       "    </tr>\n",
       "    <tr>\n",
       "      <th>1</th>\n",
       "      <td>ATGAACGAAAATCTGTTCGCTTCATTCATTGCCCCCACAATCCTAG...</td>\n",
       "      <td>4</td>\n",
       "    </tr>\n",
       "    <tr>\n",
       "      <th>2</th>\n",
       "      <td>ATGTGTGGCATTTGGGCGCTGTTTGGCAGTGATGATTGCCTTTCTG...</td>\n",
       "      <td>3</td>\n",
       "    </tr>\n",
       "    <tr>\n",
       "      <th>3</th>\n",
       "      <td>ATGTGTGGCATTTGGGCGCTGTTTGGCAGTGATGATTGCCTTTCTG...</td>\n",
       "      <td>3</td>\n",
       "    </tr>\n",
       "    <tr>\n",
       "      <th>4</th>\n",
       "      <td>ATGCAACAGCATTTTGAATTTGAATACCAGACCAAAGTGGATGGTG...</td>\n",
       "      <td>3</td>\n",
       "    </tr>\n",
       "  </tbody>\n",
       "</table>\n",
       "</div>"
      ],
      "text/plain": [
       "                                            sequence  class\n",
       "0  ATGCCCCAACTAAATACTACCGTATGGCCCACCATAATTACCCCCA...      4\n",
       "1  ATGAACGAAAATCTGTTCGCTTCATTCATTGCCCCCACAATCCTAG...      4\n",
       "2  ATGTGTGGCATTTGGGCGCTGTTTGGCAGTGATGATTGCCTTTCTG...      3\n",
       "3  ATGTGTGGCATTTGGGCGCTGTTTGGCAGTGATGATTGCCTTTCTG...      3\n",
       "4  ATGCAACAGCATTTTGAATTTGAATACCAGACCAAAGTGGATGGTG...      3"
      ]
     },
     "execution_count": 3,
     "metadata": {},
     "output_type": "execute_result"
    }
   ],
   "source": [
    "# Read Human DNA Sequences\n",
    "human_data = pd.read_csv('human_data.txt',delimiter = \"\\t\") # Or simply by read_table()\n",
    "human_data.head()"
   ]
  },
  {
   "cell_type": "code",
   "execution_count": 4,
   "metadata": {},
   "outputs": [
    {
     "data": {
      "text/plain": [
       "(4380, 2)"
      ]
     },
     "execution_count": 4,
     "metadata": {},
     "output_type": "execute_result"
    }
   ],
   "source": [
    "human_data.shape"
   ]
  },
  {
   "cell_type": "markdown",
   "metadata": {},
   "source": [
    "#### Here I will use the human data to train the model. Then we can challenge the model’s generalizability by trying to predict sequence function(class) in other species (the chimpanzee and dog)!!"
   ]
  },
  {
   "cell_type": "markdown",
   "metadata": {},
   "source": [
    "### Read DNA Sequences of Chimpanzee and Dog!!"
   ]
  },
  {
   "cell_type": "code",
   "execution_count": 5,
   "metadata": {},
   "outputs": [],
   "source": [
    "chimp_data = pd.read_table('chimp_data.txt')\n",
    "dog_data = pd.read_table('dog_data.txt')"
   ]
  },
  {
   "cell_type": "code",
   "execution_count": 6,
   "metadata": {},
   "outputs": [
    {
     "name": "stdout",
     "output_type": "stream",
     "text": [
      "(1682, 2)\n",
      "(820, 2)\n"
     ]
    }
   ],
   "source": [
    "print(chimp_data.shape)\n",
    "print(dog_data.shape)"
   ]
  },
  {
   "cell_type": "code",
   "execution_count": 7,
   "metadata": {},
   "outputs": [
    {
     "data": {
      "text/html": [
       "<div>\n",
       "<style scoped>\n",
       "    .dataframe tbody tr th:only-of-type {\n",
       "        vertical-align: middle;\n",
       "    }\n",
       "\n",
       "    .dataframe tbody tr th {\n",
       "        vertical-align: top;\n",
       "    }\n",
       "\n",
       "    .dataframe thead th {\n",
       "        text-align: right;\n",
       "    }\n",
       "</style>\n",
       "<table border=\"1\" class=\"dataframe\">\n",
       "  <thead>\n",
       "    <tr style=\"text-align: right;\">\n",
       "      <th></th>\n",
       "      <th>sequence</th>\n",
       "      <th>class</th>\n",
       "    </tr>\n",
       "  </thead>\n",
       "  <tbody>\n",
       "    <tr>\n",
       "      <th>0</th>\n",
       "      <td>ATGCCCCAACTAAATACCGCCGTATGACCCACCATAATTACCCCCA...</td>\n",
       "      <td>4</td>\n",
       "    </tr>\n",
       "    <tr>\n",
       "      <th>1</th>\n",
       "      <td>ATGAACGAAAATCTATTCGCTTCATTCGCTGCCCCCACAATCCTAG...</td>\n",
       "      <td>4</td>\n",
       "    </tr>\n",
       "    <tr>\n",
       "      <th>2</th>\n",
       "      <td>ATGGCCTCGCGCTGGTGGCGGTGGCGACGCGGCTGCTCCTGGAGGC...</td>\n",
       "      <td>4</td>\n",
       "    </tr>\n",
       "    <tr>\n",
       "      <th>3</th>\n",
       "      <td>ATGGCCTCGCGCTGGTGGCGGTGGCGACGCGGCTGCTCCTGGAGGC...</td>\n",
       "      <td>4</td>\n",
       "    </tr>\n",
       "    <tr>\n",
       "      <th>4</th>\n",
       "      <td>ATGGGCAGCGCCAGCCCGGGTCTGAGCAGCGTGTCCCCCAGCCACC...</td>\n",
       "      <td>6</td>\n",
       "    </tr>\n",
       "  </tbody>\n",
       "</table>\n",
       "</div>"
      ],
      "text/plain": [
       "                                            sequence  class\n",
       "0  ATGCCCCAACTAAATACCGCCGTATGACCCACCATAATTACCCCCA...      4\n",
       "1  ATGAACGAAAATCTATTCGCTTCATTCGCTGCCCCCACAATCCTAG...      4\n",
       "2  ATGGCCTCGCGCTGGTGGCGGTGGCGACGCGGCTGCTCCTGGAGGC...      4\n",
       "3  ATGGCCTCGCGCTGGTGGCGGTGGCGACGCGGCTGCTCCTGGAGGC...      4\n",
       "4  ATGGGCAGCGCCAGCCCGGGTCTGAGCAGCGTGTCCCCCAGCCACC...      6"
      ]
     },
     "execution_count": 7,
     "metadata": {},
     "output_type": "execute_result"
    }
   ],
   "source": [
    "chimp_data.head(5)"
   ]
  },
  {
   "cell_type": "markdown",
   "metadata": {},
   "source": [
    "### Let's understand the Classes (human_data.txt) that represent gene sequence function groups!"
   ]
  },
  {
   "cell_type": "code",
   "execution_count": 8,
   "metadata": {},
   "outputs": [
    {
     "data": {
      "image/png": "[encoded data removed]",
      "text/plain": [
       "<IPython.core.display.Image object>"
      ]
     },
     "execution_count": 8,
     "metadata": {},
     "output_type": "execute_result"
    }
   ],
   "source": [
    "from IPython.display import Image\n",
    "Image(\"Classes indicating Gene Families.PNG\")"
   ]
  },
  {
   "cell_type": "markdown",
   "metadata": {},
   "source": [
    "## Encode DNA Sequences!!\n",
    "Different Techniques available :https://www.kaggle.com/thomasnelson/working-with-dna-sequence-data-for-ml"
   ]
  },
  {
   "cell_type": "markdown",
   "metadata": {},
   "source": [
    "#### K-mer counting: Treating DNA sequence as a \"Language\"\n",
    "\n",
    "A challenge that remains is that none of the previous encoding methods results in vectors of uniform length, and that is a requirement for feeding data to a classification or regression algorithm. So with the previous  methods you have to resort to things like truncating sequences or padding with \"n\" or \"0\" to get vectors of uniform length.\n",
    "\n",
    "#### DNA and protein sequences can be viewed metaphorically as the language of life. The language encodes instructions as well as function for the molecules that are found in all life forms. The sequence language analogy continues with the genome as the book, subsequences (genes and gene families) are sentences and chapters, k-mers and peptides (motifs) are words, and nucleotide bases and amino acids are the alphabet. Since the analogy seems so apt, it stands to reason that the amazing work done in the natural language processing field should also apply to the natural language of DNA and protein sequences.\n",
    "\n",
    "The method I use here is simple and easy. I first take the long biological sequence and break it down into k-mer length overlapping “words”. For example, if I use \"words\" of length 6 (hexamers), “ATGCATGCA” becomes: ‘ATGCAT’, ‘TGCATG’, ‘GCATGC’, ‘CATGCA’. Hence our example sequence is broken down into 4 hexamer words.\n",
    "\n",
    "Here I am using hexamer “words” but that is arbitrary and word length can be tuned to suit the particular situation. The word length and amount of overlap need to be determined empirically for any given application.\n"
   ]
  },
  {
   "cell_type": "markdown",
   "metadata": {},
   "source": [
    "#### The Function to collect all possible overlapping k-mers of a specified length from any sequence string!"
   ]
  },
  {
   "cell_type": "code",
   "execution_count": 9,
   "metadata": {},
   "outputs": [],
   "source": [
    "# returns a list of k-mer \"words\"\n",
    "def getKmers(sequence, size=6): # Taking word size (tunable) = 6 (hexamer words)\n",
    "    return [sequence[x:x+size].lower() for x in range(len(sequence) - size + 1)]   # changing to lowercase"
   ]
  },
  {
   "cell_type": "markdown",
   "metadata": {},
   "source": [
    "#### Applying K-mer counting on each dataset  using our getKmers()"
   ]
  },
  {
   "cell_type": "code",
   "execution_count": 10,
   "metadata": {},
   "outputs": [],
   "source": [
    "human_data['K-mer_words'] = human_data.apply(lambda x: getKmers(x['sequence']), axis=1)\n",
    "human_data = human_data.drop('sequence', axis=1)  # Now drop the sequence on which we applied K-mer\n",
    "\n",
    "chimp_data['K-mer_words'] = chimp_data.apply(lambda x: getKmers(x['sequence']), axis=1)\n",
    "chimp_data = chimp_data.drop('sequence', axis=1)\n",
    "\n",
    "dog_data['K-mer_words'] = dog_data.apply(lambda x: getKmers(x['sequence']), axis=1)\n",
    "dog_data = dog_data.drop('sequence', axis=1)"
   ]
  },
  {
   "cell_type": "code",
   "execution_count": 11,
   "metadata": {},
   "outputs": [
    {
     "data": {
      "text/html": [
       "<div>\n",
       "<style scoped>\n",
       "    .dataframe tbody tr th:only-of-type {\n",
       "        vertical-align: middle;\n",
       "    }\n",
       "\n",
       "    .dataframe tbody tr th {\n",
       "        vertical-align: top;\n",
       "    }\n",
       "\n",
       "    .dataframe thead th {\n",
       "        text-align: right;\n",
       "    }\n",
       "</style>\n",
       "<table border=\"1\" class=\"dataframe\">\n",
       "  <thead>\n",
       "    <tr style=\"text-align: right;\">\n",
       "      <th></th>\n",
       "      <th>class</th>\n",
       "      <th>K-mer_words</th>\n",
       "    </tr>\n",
       "  </thead>\n",
       "  <tbody>\n",
       "    <tr>\n",
       "      <th>0</th>\n",
       "      <td>4</td>\n",
       "      <td>[atgcca, tgccac, gccaca, ccacag, cacagc, acagc...</td>\n",
       "    </tr>\n",
       "    <tr>\n",
       "      <th>1</th>\n",
       "      <td>4</td>\n",
       "      <td>[atgaac, tgaacg, gaacga, aacgaa, acgaaa, cgaaa...</td>\n",
       "    </tr>\n",
       "    <tr>\n",
       "      <th>2</th>\n",
       "      <td>6</td>\n",
       "      <td>[atggaa, tggaaa, ggaaac, gaaaca, aaacac, aacac...</td>\n",
       "    </tr>\n",
       "    <tr>\n",
       "      <th>3</th>\n",
       "      <td>6</td>\n",
       "      <td>[atgtgc, tgtgca, gtgcac, tgcact, gcacta, cacta...</td>\n",
       "    </tr>\n",
       "    <tr>\n",
       "      <th>4</th>\n",
       "      <td>0</td>\n",
       "      <td>[atgagc, tgagcc, gagccg, agccgg, gccggc, ccggc...</td>\n",
       "    </tr>\n",
       "  </tbody>\n",
       "</table>\n",
       "</div>"
      ],
      "text/plain": [
       "   class                                        K-mer_words\n",
       "0      4  [atgcca, tgccac, gccaca, ccacag, cacagc, acagc...\n",
       "1      4  [atgaac, tgaacg, gaacga, aacgaa, acgaaa, cgaaa...\n",
       "2      6  [atggaa, tggaaa, ggaaac, gaaaca, aaacac, aacac...\n",
       "3      6  [atgtgc, tgtgca, gtgcac, tgcact, gcacta, cacta...\n",
       "4      0  [atgagc, tgagcc, gagccg, agccgg, gccggc, ccggc..."
      ]
     },
     "execution_count": 11,
     "metadata": {},
     "output_type": "execute_result"
    }
   ],
   "source": [
    "#Let's have a look!\n",
    "dog_data.head()"
   ]
  },
  {
   "cell_type": "code",
   "execution_count": 12,
   "metadata": {},
   "outputs": [],
   "source": [
    "# Let's join the K-mer words into a sentence for each sequence !\n",
    "\n",
    "human_texts = list(human_data['K-mer_words'])\n",
    "for item in range(len(human_texts)):\n",
    "    human_texts[item] = ' '.join(human_texts[item])\n",
    "    \n",
    "# Taking the class as labels   \n",
    "y_human= human_data.iloc[:, 0].values                         "
   ]
  },
  {
   "cell_type": "code",
   "execution_count": 13,
   "metadata": {},
   "outputs": [
    {
     "data": {
      "text/plain": [
       "'atgaac tgaacg gaacga aacgaa acgaaa cgaaaa gaaaat aaaatc aaatct aatctg atctgt tctgtt ctgttc tgttcg gttcgc ttcgct tcgctt cgcttc gcttca cttcat ttcatt tcattc cattca attcat ttcatt tcattg cattgc attgcc ttgccc tgcccc gccccc ccccca ccccac cccaca ccacaa cacaat acaatc caatcc aatcct atccta tcctag cctagg ctaggc taggcc aggcct ggccta gcctac cctacc ctaccc tacccg acccgc cccgcc ccgccg cgccgc gccgca ccgcag cgcagt gcagta cagtac agtact gtactg tactga actgat ctgatc tgatca gatcat atcatt tcattc cattct attcta ttctat tctatt ctattt tatttc atttcc tttccc ttcccc tccccc ccccct cccctc ccctct cctcta ctctat tctatt ctattg tattga attgat ttgatc tgatcc gatccc atcccc tcccca ccccac cccacc ccacct cacctc acctcc cctcca ctccaa tccaaa ccaaat caaata aaatat aatatc atatct tatctc atctca tctcat ctcatc tcatca catcaa atcaac tcaaca caacaa aacaac acaacc caaccg aaccga accgac ccgact cgacta gactaa actaat ctaatc taatca aatcac atcacc tcacca caccac accacc ccaccc caccca acccaa cccaac ccaaca caacaa aacaat acaatg caatga aatgac atgact tgacta gactaa actaat ctaatc taatca aatcaa atcaaa tcaaac caaact aaacta aactaa actaac ctaacc taacct aacctc acctca cctcaa ctcaaa tcaaaa caaaac aaaaca aaacaa aacaaa acaaat caaatg aaatga aatgat atgata tgataa gataac ataacc taacca aaccat accata ccatac cataca atacac tacaca acacaa cacaac acaaca caacac aacact acacta cactaa actaaa ctaaag taaagg aaagga aaggac aggacg ggacga gacgaa acgaac cgaacc gaacct aacctg acctga cctgat ctgatc tgatct gatctc atctct tctctt ctctta tcttat cttata ttatac tatact atacta tactag actagt ctagta tagtat agtatc gtatcc tatcct atcctt tcctta ccttaa cttaat ttaatc taatca aatcat atcatt tcattt catttt attttt ttttta ttttat tttatt ttattg tattgc attgcc ttgcca tgccac gccaca ccacaa cacaac acaact caacta aactaa actaac ctaacc taacct aacctc acctcc cctcct ctcctc tcctcg cctcgg ctcgga tcggac cggact ggactc gactcc actcct ctcctg tcctgc cctgcc ctgcct tgcctc gcctca cctcac ctcact tcactc cactca actcat ctcatt tcattt cattta atttac tttaca ttacac tacacc acacca caccaa accaac ccaacc caacca aaccac accacc ccaccc caccca acccaa cccaac ccaact caacta aactat actatc ctatct tatcta atctat tctata ctataa tataaa ataaac taaacc aaacct aaccta acctag cctagc ctagcc tagcca agccat gccatg ccatgg catggc atggcc tggcca ggccat gccatc ccatcc catccc atcccc tcccct cccctt ccctta ccttat cttatg ttatga tatgag atgagc tgagcg gagcgg agcggg gcgggc cgggca gggcac ggcaca gcacag cacagt acagtg cagtga agtgat gtgatt tgatta gattat attata ttatag tatagg ataggc taggct aggctt ggcttt gctttc ctttcg tttcgc ttcgct tcgctc cgctct gctcta ctctaa tctaag ctaaga taagat aagatt agatta gattaa attaaa ttaaaa taaaaa aaaaat aaaatg aaatgc aatgcc atgccc tgccct gcccta ccctag cctagc ctagcc tagccc agccca gcccac cccact ccactt cacttc acttct cttctt ttctta tcttac cttacc ttacca taccac accaca ccacaa cacaag acaagg caaggc aaggca aggcac ggcaca gcacac cacacc acacct caccta acctac cctaca ctacac tacacc acaccc cacccc acccct cccctt ccctta ccttat cttatc ttatcc tatccc atcccc tcccca ccccat cccata ccatac catact atacta tactag actagt ctagtt tagtta agttat gttatt ttatta tattat attatc ttatcg tatcga atcgaa tcgaaa cgaaac gaaacc aaacca aaccat accatc ccatca catcag atcagc tcagcc cagcct agccta gcctac cctact ctactc tactca actcat ctcatt tcattc cattca attcaa ttcaac tcaacc caacca aaccaa accaat ccaata caatag aatagc atagcc tagccc agccct gccctg ccctgg cctggc ctggcc tggccg ggccgt gccgta ccgtac cgtacg gtacgc tacgcc acgcct cgccta gcctaa cctaac ctaacc taaccg aaccgc accgct ccgcta cgctaa gctaac ctaaca taacat aacatt acatta cattac attact ttactg tactgc actgca ctgcag tgcagg gcaggc caggcc aggcca ggccac gccacc ccacct caccta acctac cctact ctactc tactca actcat ctcatg tcatgc catgca atgcac tgcacc gcacct caccta acctaa cctaat ctaatt taattg aattgg attgga ttggaa tggaag ggaagc gaagcg aagcgc agcgcc gcgcca cgccac gccacc ccaccc caccct acccta ccctag cctagc ctagca tagcaa agcaat gcaata caatat aatatc atatca tatcaa atcaac tcaacc caacca aaccat accatt ccatta cattaa attaac ttaacc taacct aacctt accttc ccttcc cttccc ttccct tccctc ccctct cctcta ctctac tctaca ctacac tacact acactt cactta acttat cttatc ttatca tatcat atcatc tcatct catctt atcttc tcttca cttcac ttcaca tcacaa cacaat acaatt caattc aattct attcta ttctaa tctaat ctaatt taattc aattct attcta ttctac tctact ctactg tactga actgac ctgact tgacta gactat actatc ctatcc tatcct atccta tcctag cctaga ctagaa tagaaa agaaat gaaatc aaatcg aatcgc atcgct tcgctg cgctgt gctgtc ctgtcg tgtcgc gtcgcc tcgcct cgcctt gcctta ccttaa cttaat ttaatc taatcc aatcca atccaa tccaag ccaagc caagcc aagcct agccta gcctac cctacg ctacgt tacgtt acgttt cgtttt gttttc ttttca tttcac ttcaca tcacac cacact acactt cacttc acttct cttcta ttctag tctagt ctagta tagtaa agtaag gtaagc taagcc aagcct agcctc gcctct cctcta ctctac tctacc ctacct tacctg acctgc cctgca ctgcac tgcacg gcacga cacgac acgaca cgacaa gacaac acaaca caacac aacaca acacat cacata acataa'"
      ]
     },
     "execution_count": 13,
     "metadata": {},
     "output_type": "execute_result"
    }
   ],
   "source": [
    "human_texts[1]"
   ]
  },
  {
   "cell_type": "code",
   "execution_count": 14,
   "metadata": {},
   "outputs": [
    {
     "data": {
      "text/plain": [
       "array([4, 4, 3, ..., 6, 6, 6], dtype=int64)"
      ]
     },
     "execution_count": 14,
     "metadata": {},
     "output_type": "execute_result"
    }
   ],
   "source": [
    "y_human"
   ]
  },
  {
   "cell_type": "markdown",
   "metadata": {},
   "source": [
    "#### Let's do  the same steps for chimpanzee and dog !!"
   ]
  },
  {
   "cell_type": "code",
   "execution_count": 15,
   "metadata": {},
   "outputs": [],
   "source": [
    "# for chimpanzee\n",
    "chimp_texts = list(chimp_data['K-mer_words'])\n",
    "for item in range(len(chimp_texts)):\n",
    "    chimp_texts[item] = ' '.join(chimp_texts[item])\n",
    "    \n",
    "y_chimp = chimp_data.iloc[:, 0].values                      \n",
    "\n",
    "#for dog\n",
    "dog_texts = list(dog_data['K-mer_words'])\n",
    "for item in range(len(dog_texts)):\n",
    "    dog_texts[item] = ' '.join(dog_texts[item])\n",
    "    \n",
    "y_dog = dog_data.iloc[:, 0].values   "
   ]
  },
  {
   "cell_type": "markdown",
   "metadata": {},
   "source": [
    "#### Now we will apply the CBOW  using CountVectorizer"
   ]
  },
  {
   "cell_type": "code",
   "execution_count": 16,
   "metadata": {},
   "outputs": [],
   "source": [
    "# Applying CountVectorizer on the words/vocabularies found from the sequences!\n",
    "from sklearn.feature_extraction.text import CountVectorizer\n",
    "cv = CountVectorizer(ngram_range=(4,4))\n",
    "\n",
    "X_human =cv.fit_transform(human_texts)\n",
    "X_chimp = cv.transform(chimp_texts)\n",
    "X_dog = cv.transform(dog_texts)"
   ]
  },
  {
   "cell_type": "code",
   "execution_count": 17,
   "metadata": {},
   "outputs": [
    {
     "name": "stdout",
     "output_type": "stream",
     "text": [
      "(4380, 232414)\n",
      "(1682, 232414)\n",
      "(820, 232414)\n"
     ]
    }
   ],
   "source": [
    "# Let's see the vector shapes\n",
    "print(X_human.shape)\n",
    "print(X_chimp.shape)\n",
    "print(X_dog.shape)"
   ]
  },
  {
   "cell_type": "markdown",
   "metadata": {},
   "source": [
    "#### For human we have 4380 genes converted into uniform length feature vectors of 4-gram k-mer (length 6) counts. For chimp and dog, we also have the expected same number of features with 1682 and 820 genes respectively."
   ]
  },
  {
   "cell_type": "markdown",
   "metadata": {},
   "source": [
    "#### If we have a look at class balance ,we can see we have relatively balanced dataset!"
   ]
  },
  {
   "cell_type": "code",
   "execution_count": 42,
   "metadata": {},
   "outputs": [
    {
     "data": {
      "text/plain": [
       "<matplotlib.axes._subplots.AxesSubplot at 0x18f14bafa00>"
      ]
     },
     "execution_count": 42,
     "metadata": {},
     "output_type": "execute_result"
    },
    {
     "data": {
      "image/png": "[encoded data removed]",
      "text/plain": [
       "<Figure size 432x288 with 1 Axes>"
      ]
     },
     "metadata": {
      "needs_background": "light"
     },
     "output_type": "display_data"
    }
   ],
   "source": [
    "human_data['class'].value_counts().sort_index().plot.bar()"
   ]
  },
  {
   "cell_type": "code",
   "execution_count": 46,
   "metadata": {},
   "outputs": [
    {
     "data": {
      "text/plain": [
       "<matplotlib.axes._subplots.AxesSubplot at 0x18f152a3100>"
      ]
     },
     "execution_count": 46,
     "metadata": {},
     "output_type": "execute_result"
    },
    {
     "data": {
      "image/png": "[encoded data removed]",
      "text/plain": [
       "<Figure size 432x288 with 1 Axes>"
      ]
     },
     "metadata": {
      "needs_background": "light"
     },
     "output_type": "display_data"
    }
   ],
   "source": [
    "chimp_data['class'].value_counts().sort_index().plot.bar()"
   ]
  },
  {
   "cell_type": "code",
   "execution_count": 47,
   "metadata": {},
   "outputs": [
    {
     "data": {
      "text/plain": [
       "<matplotlib.axes._subplots.AxesSubplot at 0x18f15375250>"
      ]
     },
     "execution_count": 47,
     "metadata": {},
     "output_type": "execute_result"
    },
    {
     "data": {
      "image/png": "[encoded data removed]",
      "text/plain": [
       "<Figure size 432x288 with 1 Axes>"
      ]
     },
     "metadata": {
      "needs_background": "light"
     },
     "output_type": "display_data"
    }
   ],
   "source": [
    "dog_data['class'].value_counts().sort_index().plot.bar()"
   ]
  },
  {
   "cell_type": "code",
   "execution_count": 18,
   "metadata": {},
   "outputs": [],
   "source": [
    "# Splitting the human dataset into the training set and test set\n",
    "from sklearn.model_selection import train_test_split\n",
    "X_train, X_test, y_train, y_test = train_test_split(X_human, y_human, test_size = 0.2,random_state=40)"
   ]
  },
  {
   "cell_type": "code",
   "execution_count": 19,
   "metadata": {},
   "outputs": [
    {
     "name": "stdout",
     "output_type": "stream",
     "text": [
      "(3504, 232414)\n",
      "(876, 232414)\n"
     ]
    }
   ],
   "source": [
    "print(X_train.shape)\n",
    "print(X_test.shape)"
   ]
  },
  {
   "cell_type": "markdown",
   "metadata": {},
   "source": [
    "## Set a classifier"
   ]
  },
  {
   "cell_type": "code",
   "execution_count": 65,
   "metadata": {},
   "outputs": [
    {
     "data": {
      "text/plain": [
       "MultinomialNB(alpha=0.1)"
      ]
     },
     "execution_count": 65,
     "metadata": {},
     "output_type": "execute_result"
    }
   ],
   "source": [
    "from sklearn.naive_bayes import MultinomialNB\n",
    "classifier = MultinomialNB(alpha=0.1) ## The alpha parameter was determined by grid search previously!\n",
    "classifier.fit(X_train, y_train)"
   ]
  },
  {
   "cell_type": "code",
   "execution_count": 66,
   "metadata": {},
   "outputs": [
    {
     "data": {
      "text/plain": [
       "array([6, 1, 0, 3, 4, 0, 0, 6, 4, 6, 6, 2, 5, 3, 1, 3, 2, 6, 6, 1, 3, 6,\n",
       "       3, 6, 6, 4, 6, 4, 3, 4, 6, 6, 0, 6, 1, 6, 6, 6, 6, 6, 3, 0, 3, 5,\n",
       "       0, 6, 6, 3, 6, 4, 4, 2, 6, 1, 6, 2, 4, 4, 6, 2, 6, 1, 0, 4, 6, 2,\n",
       "       0, 0, 2, 1, 3, 3, 0, 1, 5, 6, 0, 4, 6, 1, 6, 4, 3, 4, 3, 0, 4, 6,\n",
       "       1, 0, 4, 3, 4, 3, 3, 3, 0, 6, 1, 0, 0, 2, 1, 4, 6, 6, 4, 6, 1, 4,\n",
       "       3, 2, 6, 3, 3, 3, 4, 3, 6, 4, 2, 2, 0, 3, 1, 5, 0, 6, 0, 6, 3, 0,\n",
       "       3, 6, 6, 6, 0, 1, 3, 1, 6, 1, 0, 0, 0, 6, 1, 0, 4, 2, 0, 1, 4, 2,\n",
       "       1, 6, 1, 6, 4, 6, 4, 6, 6, 4, 0, 6, 0, 5, 6, 3, 4, 1, 6, 6, 1, 4,\n",
       "       4, 6, 4, 6, 3, 6, 3, 3, 2, 3, 6, 6, 6, 0, 6, 6, 3, 1, 0, 2, 4, 4,\n",
       "       5, 0, 0, 4, 5, 6, 6, 0, 3, 6, 3, 1, 1, 6, 6, 3, 6, 1, 0, 1, 3, 6,\n",
       "       6, 4, 0, 6, 6, 0, 0, 1, 0, 6, 3, 6, 1, 4, 6, 1, 3, 3, 2, 4, 4, 4,\n",
       "       3, 1, 4, 1, 4, 4, 6, 4, 3, 0, 0, 1, 0, 4, 4, 1, 4, 4, 4, 6, 1, 2,\n",
       "       6, 5, 0, 3, 6, 6, 1, 3, 1, 4, 4, 6, 6, 6, 4, 4, 4, 4, 0, 1, 6, 4,\n",
       "       4, 6, 5, 0, 1, 4, 2, 3, 1, 1, 3, 3, 6, 6, 6, 4, 3, 3, 4, 3, 4, 4,\n",
       "       2, 2, 6, 6, 4, 3, 6, 6, 2, 4, 2, 4, 6, 6, 6, 6, 6, 2, 4, 3, 3, 4,\n",
       "       5, 0, 3, 4, 1, 4, 1, 4, 6, 3, 6, 4, 6, 4, 2, 2, 0, 1, 3, 5, 0, 6,\n",
       "       3, 6, 3, 6, 3, 6, 5, 6, 4, 4, 6, 1, 6, 3, 3, 6, 1, 2, 6, 6, 6, 3,\n",
       "       6, 1, 1, 1, 0, 6, 0, 2, 0, 6, 2, 0, 6, 6, 6, 2, 4, 0, 1, 3, 1, 6,\n",
       "       4, 0, 4, 3, 0, 0, 4, 1, 6, 3, 1, 6, 4, 6, 6, 3, 3, 6, 1, 3, 1, 5,\n",
       "       4, 6, 4, 3, 6, 6, 3, 1, 3, 6, 3, 6, 2, 4, 4, 6, 1, 2, 4, 6, 0, 0,\n",
       "       0, 4, 0, 6, 4, 6, 3, 6, 6, 0, 1, 6, 6, 3, 0, 6, 1, 1, 6, 5, 6, 6,\n",
       "       1, 3, 3, 2, 6, 6, 6, 1, 5, 0, 6, 4, 4, 5, 4, 6, 3, 3, 6, 6, 3, 1,\n",
       "       4, 3, 6, 6, 4, 6, 1, 6, 4, 6, 2, 4, 6, 6, 1, 0, 6, 2, 0, 4, 5, 4,\n",
       "       6, 3, 5, 5, 3, 1, 5, 3, 4, 4, 3, 4, 4, 0, 4, 2, 2, 3, 1, 4, 4, 6,\n",
       "       3, 6, 6, 6, 5, 0, 6, 1, 6, 3, 6, 5, 0, 0, 6, 1, 6, 4, 3, 4, 6, 6,\n",
       "       1, 1, 0, 2, 2, 6, 0, 0, 3, 6, 2, 1, 3, 0, 3, 2, 6, 6, 5, 4, 2, 3,\n",
       "       4, 2, 2, 0, 6, 6, 5, 0, 4, 0, 1, 6, 3, 6, 4, 4, 4, 1, 6, 0, 0, 3,\n",
       "       6, 4, 1, 4, 1, 6, 6, 6, 4, 0, 6, 0, 6, 4, 4, 6, 6, 4, 6, 3, 6, 1,\n",
       "       6, 6, 1, 1, 0, 1, 6, 3, 0, 1, 1, 6, 6, 6, 0, 1, 3, 0, 4, 6, 6, 0,\n",
       "       1, 1, 2, 3, 6, 6, 6, 5, 6, 4, 3, 5, 0, 1, 5, 6, 6, 6, 6, 6, 2, 0,\n",
       "       2, 1, 6, 4, 0, 0, 6, 6, 3, 3, 4, 3, 0, 4, 6, 0, 6, 2, 1, 6, 3, 1,\n",
       "       1, 4, 6, 4, 3, 6, 6, 2, 4, 6, 6, 6, 4, 1, 2, 1, 6, 4, 6, 1, 4, 3,\n",
       "       3, 3, 0, 3, 2, 6, 6, 1, 1, 4, 4, 4, 2, 1, 1, 4, 6, 6, 5, 6, 0, 6,\n",
       "       6, 4, 6, 3, 3, 4, 0, 1, 6, 2, 1, 3, 0, 6, 3, 4, 0, 6, 5, 0, 6, 5,\n",
       "       1, 0, 6, 6, 1, 2, 2, 0, 4, 6, 1, 4, 3, 0, 1, 3, 6, 1, 0, 1, 6, 0,\n",
       "       0, 3, 2, 4, 6, 6, 0, 6, 1, 6, 0, 6, 0, 1, 6, 3, 6, 3, 6, 6, 0, 4,\n",
       "       6, 5, 6, 2, 0, 6, 6, 2, 6, 6, 3, 6, 6, 6, 1, 6, 6, 6, 4, 4, 6, 6,\n",
       "       4, 2, 0, 1, 6, 6, 4, 2, 4, 6, 4, 6, 3, 6, 5, 4, 3, 2, 1, 5, 2, 6,\n",
       "       6, 0, 0, 5, 0, 0, 0, 6, 6, 6, 4, 3, 6, 4, 6, 4, 5, 0, 6, 5, 4, 1,\n",
       "       6, 0, 3, 6, 2, 6, 6, 0, 6, 4, 4, 1, 6, 1, 5, 4, 0, 1], dtype=int64)"
      ]
     },
     "execution_count": 66,
     "metadata": {},
     "output_type": "execute_result"
    }
   ],
   "source": [
    "y_pred = classifier.predict(X_test)\n",
    "y_pred"
   ]
  },
  {
   "cell_type": "markdown",
   "metadata": {},
   "source": [
    "## Create model  performance metrics!"
   ]
  },
  {
   "cell_type": "code",
   "execution_count": 72,
   "metadata": {},
   "outputs": [
    {
     "name": "stdout",
     "output_type": "stream",
     "text": [
      "Confusion Matrix\n",
      "\n",
      "Predicted Label    0    1   2    3    4   5    6\n",
      "Actual Label                                    \n",
      "0                113    0   0    0    0   0    0\n",
      "1                  1  115   0    0    0   0    4\n",
      "2                  0    0  62    0    0   0    3\n",
      "3                  0    0   0  121    1   0    1\n",
      "4                  1    0   0    0  149   0    2\n",
      "5                  2    0   0    0    0  37    1\n",
      "6                  0    0   0    0    0   0  263\n",
      "Accuracy = 0.982 \n",
      "Precision = 0.982 \n",
      "Recall = 0.982 \n",
      "F1_Score = 0.982\n"
     ]
    }
   ],
   "source": [
    "from sklearn.metrics import accuracy_score, f1_score, precision_score, recall_score\n",
    "\n",
    "print(\"Confusion Matrix\\n\")\n",
    "print(pd.crosstab(pd.Series(y_test, name='Actual Label'), pd.Series(y_pred, name='Predicted Label')))\n",
    "\n",
    "def get_metrics(y_test, y_predicted):\n",
    "    accuracy = accuracy_score(y_test, y_predicted)\n",
    "    precision = precision_score(y_test, y_predicted, average='weighted')\n",
    "    recall = recall_score(y_test, y_predicted, average='weighted')\n",
    "    f1 = f1_score(y_test, y_predicted, average='weighted')\n",
    "    return accuracy, precision, recall, f1\n",
    "accuracy, precision, recall, f1 = get_metrics(y_test, y_pred)\n",
    "\n",
    "print(\"Accuracy = %.3f \\nPrecision = %.3f \\nRecall = %.3f \\nF1_Score = %.3f\" % (accuracy, precision, recall, f1))"
   ]
  },
  {
   "cell_type": "markdown",
   "metadata": {},
   "source": [
    "## Now Let our model try to predict the classes on Chimpanzee & Dog DNA sequences!!"
   ]
  },
  {
   "cell_type": "code",
   "execution_count": 73,
   "metadata": {},
   "outputs": [],
   "source": [
    "# Chimpanzee\n",
    "y_pred_chimp = classifier.predict(X_chimp)"
   ]
  },
  {
   "cell_type": "code",
   "execution_count": 77,
   "metadata": {},
   "outputs": [
    {
     "data": {
      "text/plain": [
       "(1682,)"
      ]
     },
     "execution_count": 77,
     "metadata": {},
     "output_type": "execute_result"
    }
   ],
   "source": [
    "y_pred_chimp.shape"
   ]
  },
  {
   "cell_type": "code",
   "execution_count": 78,
   "metadata": {},
   "outputs": [
    {
     "name": "stdout",
     "output_type": "stream",
     "text": [
      "Confusion Matrix\n",
      "\n",
      "Predicted Label    0    1   2    3    4   5    6\n",
      "Actual Label                                    \n",
      "0                113    0   0    0    0   0    0\n",
      "1                  1  115   0    0    0   0    4\n",
      "2                  0    0  62    0    0   0    3\n",
      "3                  0    0   0  121    1   0    1\n",
      "4                  1    0   0    0  149   0    2\n",
      "5                  2    0   0    0    0  37    1\n",
      "6                  0    0   0    0    0   0  263\n",
      "Accuracy = 0.991 \n",
      "Precision = 0.991 \n",
      "Recall = 0.991 \n",
      "F1_Score = 0.991\n"
     ]
    }
   ],
   "source": [
    "# performance on chimpanzee genes\n",
    "from sklearn.metrics import accuracy_score, f1_score, precision_score, recall_score\n",
    "\n",
    "print(\"Confusion Matrix\\n\")\n",
    "print(pd.crosstab(pd.Series(y_test, name='Actual Label'), pd.Series(y_pred, name='Predicted Label')))\n",
    "\n",
    "def get_metrics(y_test, y_predicted):\n",
    "    accuracy = accuracy_score(y_test, y_predicted)\n",
    "    precision = precision_score(y_test, y_predicted, average='weighted')\n",
    "    recall = recall_score(y_test, y_predicted, average='weighted')\n",
    "    f1 = f1_score(y_test, y_predicted, average='weighted')\n",
    "    return accuracy, precision, recall, f1\n",
    "accuracy, precision, recall, f1 = get_metrics(y_chimp, y_pred_chimp)\n",
    "\n",
    "print(\"Accuracy = %.3f \\nPrecision = %.3f \\nRecall = %.3f \\nF1_Score = %.3f\" % (accuracy, precision, recall, f1))"
   ]
  },
  {
   "cell_type": "markdown",
   "metadata": {},
   "source": [
    "#### The above result was expected because  the human DNA Sequences are very similar to Chimpanzee !!"
   ]
  },
  {
   "cell_type": "code",
   "execution_count": 79,
   "metadata": {},
   "outputs": [],
   "source": [
    "# For Dog \n",
    "y_pred_dog = classifier.predict(X_dog)"
   ]
  },
  {
   "cell_type": "code",
   "execution_count": 80,
   "metadata": {},
   "outputs": [
    {
     "data": {
      "text/plain": [
       "array([4, 6, 6, 6, 0, 6, 0, 0, 0, 0, 0, 6, 6, 0, 0, 0, 6, 0, 0, 0, 0, 0,\n",
       "       6, 0, 0, 0, 6, 0, 0, 6, 0, 0, 0, 0, 6, 0, 6, 0, 6, 0, 6, 0, 6, 0,\n",
       "       6, 0, 0, 3, 3, 6, 6, 6, 6, 4, 0, 4, 4, 2, 0, 0, 0, 0, 6, 0, 6, 0,\n",
       "       0, 5, 5, 6, 4, 6, 0, 0, 3, 6, 3, 6, 6, 6, 6, 6, 4, 6, 4, 1, 4, 0,\n",
       "       0, 0, 6, 6, 4, 6, 6, 6, 6, 6, 4, 6, 6, 3, 3, 3, 6, 0, 6, 6, 6, 6,\n",
       "       4, 4, 5, 6, 6, 1, 5, 6, 6, 1, 4, 2, 6, 3, 3, 6, 6, 6, 6, 6, 6, 6,\n",
       "       6, 3, 6, 6, 2, 0, 0, 6, 6, 3, 3, 3, 0, 0, 4, 6, 6, 6, 1, 1, 0, 0,\n",
       "       0, 4, 0, 4, 0, 0, 3, 4, 6, 0, 6, 6, 3, 4, 0, 6, 6, 1, 2, 2, 2, 3,\n",
       "       6, 2, 2, 2, 6, 0, 0, 6, 6, 0, 0, 1, 6, 5, 5, 6, 0, 6, 0, 0, 4, 0,\n",
       "       0, 3, 4, 0, 0, 6, 6, 5, 5, 4, 4, 1, 0, 6, 5, 6, 6, 4, 4, 2, 2, 2,\n",
       "       0, 6, 4, 4, 2, 1, 6, 6, 0, 6, 4, 6, 0, 0, 6, 0, 6, 4, 6, 1, 1, 4,\n",
       "       6, 4, 4, 6, 0, 3, 2, 2, 6, 6, 3, 3, 4, 3, 0, 3, 5, 5, 6, 6, 5, 5,\n",
       "       5, 2, 2, 4, 4, 6, 4, 4, 6, 6, 6, 6, 3, 3, 4, 3, 0, 0, 6, 0, 0, 6,\n",
       "       6, 1, 0, 6, 0, 0, 6, 6, 1, 1, 1, 4, 2, 2, 3, 4, 3, 4, 3, 1, 4, 4,\n",
       "       3, 1, 6, 1, 6, 6, 6, 5, 0, 0, 6, 6, 6, 6, 4, 3, 3, 4, 4, 5, 6, 6,\n",
       "       0, 4, 1, 2, 4, 4, 3, 4, 4, 0, 0, 6, 0, 5, 4, 6, 6, 6, 6, 5, 3, 3,\n",
       "       6, 6, 6, 6, 6, 3, 0, 0, 2, 2, 3, 6, 0, 0, 2, 6, 4, 4, 6, 2, 4, 4,\n",
       "       4, 0, 6, 6, 6, 0, 6, 3, 2, 6, 6, 0, 6, 4, 6, 4, 4, 4, 6, 6, 6, 4,\n",
       "       6, 6, 6, 6, 6, 6, 6, 6, 6, 5, 6, 0, 0, 0, 5, 5, 5, 4, 6, 6, 6, 6,\n",
       "       1, 1, 6, 6, 1, 4, 1, 1, 6, 6, 6, 1, 6, 2, 2, 0, 0, 4, 3, 0, 0, 5,\n",
       "       0, 1, 6, 1, 3, 0, 2, 2, 2, 3, 1, 6, 3, 3, 6, 6, 6, 6, 5, 5, 4, 6,\n",
       "       4, 6, 6, 6, 6, 0, 0, 0, 0, 3, 6, 5, 5, 1, 1, 1, 6, 6, 6, 6, 1, 1,\n",
       "       6, 6, 6, 4, 6, 6, 3, 3, 6, 1, 2, 6, 4, 4, 0, 6, 6, 6, 4, 6, 6, 6,\n",
       "       6, 6, 2, 2, 6, 6, 6, 4, 4, 1, 6, 6, 6, 6, 6, 6, 6, 4, 6, 6, 2, 2,\n",
       "       6, 6, 0, 6, 4, 1, 1, 6, 1, 3, 3, 4, 4, 4, 4, 6, 6, 1, 1, 1, 5, 1,\n",
       "       1, 2, 2, 6, 6, 4, 4, 0, 6, 3, 5, 4, 1, 1, 1, 3, 5, 6, 6, 6, 6, 5,\n",
       "       5, 6, 3, 6, 6, 4, 6, 4, 0, 1, 0, 3, 4, 6, 4, 4, 4, 6, 1, 1, 5, 5,\n",
       "       2, 6, 6, 6, 4, 0, 3, 6, 3, 6, 6, 3, 3, 6, 6, 6, 4, 6, 6, 6, 4, 4,\n",
       "       4, 3, 3, 6, 3, 4, 6, 6, 4, 1, 5, 5, 6, 0, 0, 4, 6, 6, 0, 0, 0, 6,\n",
       "       4, 4, 6, 6, 6, 3, 4, 4, 4, 6, 3, 2, 5, 6, 6, 3, 0, 2, 6, 4, 4, 5,\n",
       "       0, 4, 4, 4, 4, 6, 5, 6, 6, 6, 6, 6, 2, 1, 1, 4, 4, 3, 0, 0, 1, 5,\n",
       "       4, 0, 6, 0, 1, 1, 6, 6, 6, 6, 6, 1, 6, 4, 3, 5, 1, 0, 6, 6, 6, 4,\n",
       "       1, 5, 5, 4, 0, 0, 6, 2, 6, 3, 6, 6, 0, 3, 3, 6, 6, 4, 6, 6, 0, 4,\n",
       "       4, 4, 6, 1, 3, 0, 4, 4, 1, 1, 1, 6, 4, 2, 2, 3, 1, 4, 4, 1, 1, 6,\n",
       "       6, 5, 5, 6, 3, 4, 6, 6, 6, 6, 3, 6, 6, 6, 2, 2, 6, 6, 3, 2, 4, 4,\n",
       "       4, 6, 6, 4, 6, 6, 6, 6, 6, 3, 3, 5, 2, 2, 3, 0, 0, 0, 6, 6, 3, 4,\n",
       "       0, 5, 6, 6, 6, 6, 0, 6, 6, 6, 4, 5, 6, 3, 0, 4, 6, 4, 4, 6, 6, 3,\n",
       "       5, 5, 6, 6, 1, 6], dtype=int64)"
      ]
     },
     "execution_count": 80,
     "metadata": {},
     "output_type": "execute_result"
    }
   ],
   "source": [
    "y_pred_dog"
   ]
  },
  {
   "cell_type": "code",
   "execution_count": 81,
   "metadata": {},
   "outputs": [
    {
     "name": "stdout",
     "output_type": "stream",
     "text": [
      "Confusion Matrix\n",
      "\n",
      "Predicted Label    0    1   2    3    4   5    6\n",
      "Actual Label                                    \n",
      "0                113    0   0    0    0   0    0\n",
      "1                  1  115   0    0    0   0    4\n",
      "2                  0    0  62    0    0   0    3\n",
      "3                  0    0   0  121    1   0    1\n",
      "4                  1    0   0    0  149   0    2\n",
      "5                  2    0   0    0    0  37    1\n",
      "6                  0    0   0    0    0   0  263\n",
      "Accuracy = 0.918 \n",
      "Precision = 0.928 \n",
      "Recall = 0.918 \n",
      "F1_Score = 0.918\n"
     ]
    }
   ],
   "source": [
    "# performance on Dog genes\n",
    "from sklearn.metrics import accuracy_score, f1_score, precision_score, recall_score\n",
    "\n",
    "print(\"Confusion Matrix\\n\")\n",
    "print(pd.crosstab(pd.Series(y_test, name='Actual Label'), pd.Series(y_pred, name='Predicted Label')))\n",
    "\n",
    "accuracy, precision, recall, f1 = get_metrics(y_dog, y_pred_dog)\n",
    "\n",
    "print(\"Accuracy = %.3f \\nPrecision = %.3f \\nRecall = %.3f \\nF1_Score = %.3f\" % (accuracy, precision, recall, f1))"
   ]
  },
  {
   "cell_type": "markdown",
   "metadata": {},
   "source": [
    "### The model seems to produce good results on human data. It also does on Chimpanzee which is because the Chimpanzee and humans share the same genetic hierarchy. The performance on the dog is not quite as good which is because the dog is more divergent from humans than the chimpanzee!"
   ]
  },
  {
   "cell_type": "markdown",
   "metadata": {},
   "source": [
    "For More : https://medium.com/analytics-vidhya/demystify-dna-sequencing-with-machine-learning-and-python-bdbaeb177f56"
   ]
  },
  {
   "cell_type": "code",
   "execution_count": null,
   "metadata": {},
   "outputs": [],
   "source": []
  }
 ],
 "metadata": {
  "kernelspec": {
   "display_name": "Python 3",
   "language": "python",
   "name": "python3"
  },
  "language_info": {
   "codemirror_mode": {
    "name": "ipython",
    "version": 3
   },
   "file_extension": ".py",
   "mimetype": "text/x-python",
   "name": "python",
   "nbconvert_exporter": "python",
   "pygments_lexer": "ipython3",
   "version": "3.8.3"
  }
 },
 "nbformat": 4,
 "nbformat_minor": 2
}
